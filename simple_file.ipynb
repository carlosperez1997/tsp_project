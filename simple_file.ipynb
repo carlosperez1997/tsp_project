{
 "cells": [
  {
   "cell_type": "markdown",
   "metadata": {},
   "source": [
    "# Set up"
   ]
  },
  {
   "cell_type": "code",
   "execution_count": 1,
   "metadata": {},
   "outputs": [],
   "source": [
    "import numpy as np\n",
    "import os\n",
    "\n",
    "from helper import *\n",
    "from tsp import *\n",
    "from tsp_integer_solver import *\n",
    "#from tsp_fractional_solver import *"
   ]
  },
  {
   "cell_type": "markdown",
   "metadata": {},
   "source": [
    "# Question 1"
   ]
  },
  {
   "cell_type": "code",
   "execution_count": 2,
   "metadata": {},
   "outputs": [
    {
     "name": "stdout",
     "output_type": "stream",
     "text": [
      "EXPLICIT\n",
      "Optimal solution: 2720\n"
     ]
    }
   ],
   "source": [
    "problem = 'rbg443.atsp' #'rbg323.atsp'\n",
    "tsp_loader = TspDataLoader()\n",
    "n_vertices, cost = tsp_loader.load_problem(problem)\n",
    "print('Optimal solution:', get_opt_sol(problem))"
   ]
  },
  {
   "cell_type": "code",
   "execution_count": 3,
   "metadata": {},
   "outputs": [
    {
     "name": "stdout",
     "output_type": "stream",
     "text": [
      "Set parameter Username\n",
      "Academic license - for non-commercial use only - expires 2024-10-12\n",
      "Set parameter LazyConstraints to value 1\n",
      "Gurobi Optimizer version 10.0.3 build v10.0.3rc0 (mac64[rosetta2])\n",
      "\n",
      "CPU model: Apple M1\n",
      "Thread count: 8 physical cores, 8 logical processors, using up to 8 threads\n",
      "\n",
      "Optimize a model with 886 rows, 195806 columns and 391612 nonzeros\n",
      "Model fingerprint: 0xf767418b\n",
      "Variable types: 0 continuous, 195806 integer (195806 binary)\n",
      "Coefficient statistics:\n",
      "  Matrix range     [1e+00, 1e+00]\n",
      "  Objective range  [1e+00, 3e+01]\n",
      "  Bounds range     [1e+00, 1e+00]\n",
      "  RHS range        [1e+00, 1e+00]\n",
      "Presolve time: 0.29s\n",
      "Presolved: 886 rows, 195806 columns, 391612 nonzeros\n",
      "Variable types: 0 continuous, 195806 integer (195806 binary)\n",
      "\n",
      "Root simplex log...\n",
      "\n",
      "Iteration    Objective       Primal Inf.    Dual Inf.      Time\n",
      "       0    0.0000000e+00   8.860000e+02   0.000000e+00      9s\n",
      "\n",
      "Starting sifting (using dual simplex for sub-problems)...\n",
      "\n",
      "    Iter     Pivots    Primal Obj      Dual Obj        Time\n",
      "       0          0     infinity      0.0000000e+00      9s\n",
      "       1       1027   3.3000000e+08   1.4219039e-01      9s\n",
      "       2       2524   2.0600028e+08   2.5568452e-01      9s\n",
      "       3       3572   1.8600044e+08   5.2890655e-01      9s\n",
      "       4       4747   1.5600073e+08   5.4835000e-01      9s\n",
      "       5       5818   1.5000079e+08   6.3555867e-01      9s\n",
      "       6       6953   1.0400133e+08   9.4306010e+01      9s\n",
      "       7       8126   5.4001953e+07   8.9322049e+01      9s\n",
      "       8       9365   2.6002333e+07   8.7376135e+01      9s\n",
      "       9      10531   2.7581215e+03   8.7695513e+01      9s\n",
      "      10      11619   2.7581214e+03   8.7972592e+01      9s\n",
      "      11      12801   2.7581214e+03   8.8144064e+01      9s\n",
      "      12      14070   2.7371237e+03   8.8484330e+01      9s\n",
      "      13      15250   2.7371237e+03   8.8648074e+01     10s\n",
      "      14      16632   2.7241258e+03   8.9605263e+01     10s\n",
      "      15      18027   2.7141261e+03   9.1897003e+01     10s\n",
      "      16      19560   2.7131252e+03   9.4098532e+01     10s\n",
      "      17      21168   2.7131243e+03   1.8774188e+03     10s\n",
      "      18      22508   2.7131241e+03   2.5327374e+03     10s\n",
      "\n",
      "Sifting complete\n",
      "\n",
      "   23644    2.7200000e+03   0.000000e+00   0.000000e+00     10s\n",
      "\n",
      "Root relaxation: objective 2.720000e+03, 23644 iterations, 0.67 seconds (0.65 work units)\n",
      "\n",
      "    Nodes    |    Current Node    |     Objective Bounds      |     Work\n",
      " Expl Unexpl |  Obj  Depth IntInf | Incumbent    BestBd   Gap | It/Node Time\n",
      "\n",
      "     0     0 2720.00000    0    -          - 2720.00000      -     -   12s\n",
      "     0     0 2720.00000    0  103          - 2720.00000      -     -   12s\n",
      "     0     0 2720.00000    0  103          - 2720.00000      -     -   21s\n",
      "     0     0 2720.00000    0  103          - 2720.00000      -     -   27s\n",
      "     0     0 2720.00000    0    -          - 2720.00000      -     -   29s\n",
      "     0     0 2720.00000    0   14          - 2720.00000      -     -   30s\n",
      "H    0     0                    2720.0000000 2720.00000  0.00%     -   30s\n",
      "     0     0 2720.00000    0   14 2720.00000 2720.00000  0.00%     -   30s\n",
      "\n",
      "Cutting planes:\n",
      "  Lazy constraints: 254\n",
      "\n",
      "Explored 1 nodes (25485 simplex iterations) in 30.77 seconds (3.08 work units)\n",
      "Thread count was 8 (of 8 available processors)\n",
      "\n",
      "Solution count 1: 2720 \n",
      "\n",
      "Optimal solution found (tolerance 1.00e-04)\n",
      "Best objective 2.720000000000e+03, best bound 2.720000000000e+03, gap 0.0000%\n",
      "\n",
      "User-callback calls 823, time in user-callback 27.74 sec\n",
      "Set parameter TimeLimit to value 600\n"
     ]
    }
   ],
   "source": [
    "i = TspInstance(n_vertices=n_vertices, cost=cost)\n",
    "s = TspIntegerBCSolver(instance=i, cardinality=None, time_limit=10)\n",
    "solution = s.solve()"
   ]
  },
  {
   "cell_type": "code",
   "execution_count": 4,
   "metadata": {},
   "outputs": [
    {
     "name": "stdout",
     "output_type": "stream",
     "text": [
      "30.780302047729492\n",
      "{'more than 3': 38, 2: 221, 3: 4}\n",
      "2720.0\n"
     ]
    }
   ],
   "source": [
    "solution_info = get_solution_info(solution)\n",
    "print(solution_info['exec_time'])\n",
    "print(solution_info['lazy_constraints_count'])\n",
    "print(solution_info['cost'])"
   ]
  },
  {
   "cell_type": "code",
   "execution_count": 5,
   "metadata": {},
   "outputs": [
    {
     "name": "stdout",
     "output_type": "stream",
     "text": [
      "Set parameter LazyConstraints to value 1\n",
      "Gurobi Optimizer version 10.0.3 build v10.0.3rc0 (mac64[rosetta2])\n",
      "\n",
      "CPU model: Apple M1\n",
      "Thread count: 8 physical cores, 8 logical processors, using up to 8 threads\n",
      "\n",
      "Optimize a model with 46 rows, 506 columns and 1012 nonzeros\n",
      "Model fingerprint: 0x939826f1\n",
      "Variable types: 0 continuous, 506 integer (506 binary)\n",
      "Coefficient statistics:\n",
      "  Matrix range     [1e+00, 1e+00]\n",
      "  Objective range  [1e+00, 3e+01]\n",
      "  Bounds range     [1e+00, 1e+00]\n",
      "  RHS range        [1e+00, 1e+00]\n",
      "Presolve time: 0.00s\n",
      "Presolved: 46 rows, 506 columns, 1012 nonzeros\n",
      "Variable types: 0 continuous, 506 integer (506 binary)\n",
      "\n",
      "Root relaxation: objective 2.590000e+02, 82 iterations, 0.00 seconds (0.00 work units)\n",
      "\n",
      "    Nodes    |    Current Node    |     Objective Bounds      |     Work\n",
      " Expl Unexpl |  Obj  Depth IntInf | Incumbent    BestBd   Gap | It/Node Time\n",
      "\n",
      "     0     0  259.00000    0    -          -  259.00000      -     -    0s\n",
      "*    0     0               0     259.0000000  259.00000  0.00%     -    0s\n",
      "\n",
      "Cutting planes:\n",
      "  Lazy constraints: 14\n",
      "\n",
      "Explored 1 nodes (85 simplex iterations) in 0.02 seconds (0.00 work units)\n",
      "Thread count was 8 (of 8 available processors)\n",
      "\n",
      "Solution count 1: 259 \n",
      "\n",
      "Optimal solution found (tolerance 1.00e-04)\n",
      "Best objective 2.590000000000e+02, best bound 2.590000000000e+02, gap 0.0000%\n",
      "\n",
      "User-callback calls 108, time in user-callback 0.01 sec\n"
     ]
    },
    {
     "ename": "NameError",
     "evalue": "name 'TspFractionalBCSolver' is not defined",
     "output_type": "error",
     "traceback": [
      "\u001b[0;31m---------------------------------------------------------------------------\u001b[0m",
      "\u001b[0;31mNameError\u001b[0m                                 Traceback (most recent call last)",
      "\u001b[0;32m<ipython-input-5-7ab6d2bced1a>\u001b[0m in \u001b[0;36m<module>\u001b[0;34m\u001b[0m\n\u001b[1;32m     18\u001b[0m \u001b[0;34m\u001b[0m\u001b[0m\n\u001b[1;32m     19\u001b[0m     \u001b[0mi_frac\u001b[0m \u001b[0;34m=\u001b[0m \u001b[0mTspInstance\u001b[0m\u001b[0;34m(\u001b[0m\u001b[0mn_vertices\u001b[0m\u001b[0;34m=\u001b[0m\u001b[0mfiltered_vertices\u001b[0m\u001b[0;34m,\u001b[0m \u001b[0mcost\u001b[0m\u001b[0;34m=\u001b[0m\u001b[0mfiltered_cost\u001b[0m\u001b[0;34m)\u001b[0m\u001b[0;34m\u001b[0m\u001b[0;34m\u001b[0m\u001b[0m\n\u001b[0;32m---> 20\u001b[0;31m     \u001b[0ms_frac\u001b[0m \u001b[0;34m=\u001b[0m \u001b[0mTspFractionalBCSolver\u001b[0m\u001b[0;34m(\u001b[0m\u001b[0minstance\u001b[0m\u001b[0;34m=\u001b[0m\u001b[0mi_frac\u001b[0m\u001b[0;34m,\u001b[0m \u001b[0mcardinality\u001b[0m\u001b[0;34m=\u001b[0m\u001b[0;32mNone\u001b[0m\u001b[0;34m)\u001b[0m\u001b[0;34m\u001b[0m\u001b[0;34m\u001b[0m\u001b[0m\n\u001b[0m\u001b[1;32m     21\u001b[0m     \u001b[0msolution\u001b[0m \u001b[0;34m=\u001b[0m \u001b[0ms_frac\u001b[0m\u001b[0;34m.\u001b[0m\u001b[0msolve\u001b[0m\u001b[0;34m(\u001b[0m\u001b[0;34m)\u001b[0m\u001b[0;34m\u001b[0m\u001b[0;34m\u001b[0m\u001b[0m\n\u001b[1;32m     22\u001b[0m \u001b[0;34m\u001b[0m\u001b[0m\n",
      "\u001b[0;31mNameError\u001b[0m: name 'TspFractionalBCSolver' is not defined"
     ]
    }
   ],
   "source": [
    "# Output time and objective value for different number of vertices\n",
    "time_list_int = list()\n",
    "objective_list_int = list()\n",
    "time_list_frac = list()\n",
    "objective_list_frac = list()\n",
    "vertices_list = range(23, 324, 50)\n",
    "\n",
    "for vert in vertices_list:\n",
    "    filtered_vertices = vert\n",
    "    filtered_cost = {(i, j): cost_val for (i, j), cost_val in cost.items() if i < filtered_vertices and j < filtered_vertices}\n",
    "\n",
    "    i_int = TspInstance(n_vertices=filtered_vertices, cost=filtered_cost)\n",
    "    s_int = TspIntegerBCSolver(instance=i_int, cardinality=None)\n",
    "    solution = s_int.solve()\n",
    "\n",
    "    time_list_int.append(s_int._model.Runtime)\n",
    "    objective_list_int.append(s_int._model.ObjVal)\n",
    "    \n",
    "    i_frac = TspInstance(n_vertices=filtered_vertices, cost=filtered_cost)\n",
    "    s_frac = TspFractionalBCSolver(instance=i_frac, cardinality=None)\n",
    "    solution = s_frac.solve()\n",
    "\n",
    "    time_list_frac.append(s_frac._model.Runtime)\n",
    "    objective_list_frac.append(s_frac._model.ObjVal)"
   ]
  },
  {
   "cell_type": "markdown",
   "metadata": {},
   "source": [
    "# Graphing"
   ]
  },
  {
   "cell_type": "code",
   "execution_count": null,
   "metadata": {},
   "outputs": [
    {
     "name": "stderr",
     "output_type": "stream",
     "text": [
      "No artists with labels found to put in legend.  Note that artists whose label start with an underscore are ignored when legend() is called with no argument.\n"
     ]
    },
    {
     "data": {
      "image/png": "[encoded data removed]",
      "text/plain": [
       "<Figure size 1000x600 with 1 Axes>"
      ]
     },
     "metadata": {},
     "output_type": "display_data"
    },
    {
     "data": {
      "text/plain": [
       "[0.014949798583984375,\n",
       " 0.12566113471984863,\n",
       " 0.4279000759124756,\n",
       " 1.0476880073547363,\n",
       " 2.5928308963775635,\n",
       " 4.2399821281433105,\n",
       " 4.24576997756958]"
      ]
     },
     "execution_count": 28,
     "metadata": {},
     "output_type": "execute_result"
    }
   ],
   "source": [
    "# Plotting the graph\n",
    "plt.figure(figsize=(10, 6))\n",
    "plt.plot(vertices_list, time_list_int, marker='o')\n",
    "plt.plot(vertices_list, time_list_frac, marker='x')\n",
    "plt.xlabel('Number of Vertices')\n",
    "plt.ylabel('Computation Time (seconds)')\n",
    "plt.title('Computation Time vs Number of Vertices in TSP')\n",
    "plt.legend()\n",
    "plt.grid(True)\n",
    "plt.show()\n"
   ]
  },
  {
   "cell_type": "markdown",
   "metadata": {},
   "source": [
    "## Baseline"
   ]
  },
  {
   "cell_type": "code",
   "execution_count": null,
   "metadata": {},
   "outputs": [],
   "source": [
    "# Load data set 1\n",
    "tsp_loader = TspDataLoader()\n",
    "n_vertices, cost = tsp_loader.load_problem('rbg323.atsp')\n",
    "\n",
    "# Load data set 2\n",
    "##tsp_loader_2 = TspDataLoader()\n",
    "#n_vertices_2, cost_2 = tsp_loader_2.load_problem('ftv64.atsp')"
   ]
  },
  {
   "cell_type": "code",
   "execution_count": null,
   "metadata": {},
   "outputs": [
    {
     "name": "stdout",
     "output_type": "stream",
     "text": [
      "Set parameter LazyConstraints to value 1\n",
      "Gurobi Optimizer version 10.0.0 build v10.0.0rc2 (mac64[arm])\n",
      "\n",
      "CPU model: Apple M2\n",
      "Thread count: 8 physical cores, 8 logical processors, using up to 8 threads\n",
      "\n",
      "Optimize a model with 646 rows, 104006 columns and 208012 nonzeros\n",
      "Model fingerprint: 0x6de01d01\n",
      "Variable types: 0 continuous, 104006 integer (104006 binary)\n",
      "Coefficient statistics:\n",
      "  Matrix range     [1e+00, 1e+00]\n",
      "  Objective range  [1e+00, 3e+01]\n",
      "  Bounds range     [1e+00, 1e+00]\n",
      "  RHS range        [1e+00, 1e+00]\n",
      "Presolve time: 0.09s\n",
      "Presolved: 646 rows, 104006 columns, 208012 nonzeros\n",
      "Variable types: 0 continuous, 104006 integer (104006 binary)\n",
      "\n",
      "Root relaxation: objective 1.326000e+03, 1691 iterations, 0.09 seconds (0.20 work units)\n",
      "\n",
      "    Nodes    |    Current Node    |     Objective Bounds      |     Work\n",
      " Expl Unexpl |  Obj  Depth IntInf | Incumbent    BestBd   Gap | It/Node Time\n",
      "\n",
      "     0     0 1326.00000    0    -          - 1326.00000      -     -    2s\n",
      "     0     0 1326.00000    0   34          - 1326.00000      -     -    2s\n",
      "H    0     0                    1326.0000000 1326.00000  0.00%     -    3s\n",
      "     0     0 1326.00000    0   36 1326.00000 1326.00000  0.00%     -    3s\n",
      "\n",
      "Cutting planes:\n",
      "  Lazy constraints: 182\n",
      "\n",
      "Explored 1 nodes (1723 simplex iterations) in 3.81 seconds (0.67 work units)\n",
      "Thread count was 8 (of 8 available processors)\n",
      "\n",
      "Solution count 1: 1326 \n",
      "\n",
      "Optimal solution found (tolerance 1.00e-04)\n",
      "Best objective 1.326000000000e+03, best bound 1.326000000000e+03, gap 0.0000%\n",
      "\n",
      "User-callback calls 261, time in user-callback 3.38 sec\n"
     ]
    }
   ],
   "source": [
    "i = TspInstance(n_vertices=n_vertices, cost=cost)\n",
    "s = TspIntegerBCSolver(instance=i, cardinality=None)\n",
    "solution = s.solve()"
   ]
  },
  {
   "cell_type": "code",
   "execution_count": null,
   "metadata": {},
   "outputs": [
    {
     "name": "stdout",
     "output_type": "stream",
     "text": [
      "Lazy constraint for subtour [35, 264]\n",
      "Lazy constraint for subtour [0, 322]\n",
      "Lazy constraint for subtour [1, 321]\n",
      "Lazy constraint for subtour [2, 320]\n",
      "Lazy constraint for subtour [3, 319]\n",
      "Lazy constraint for subtour [4, 318]\n",
      "Lazy constraint for subtour [5, 317]\n",
      "Lazy constraint for subtour [6, 316]\n",
      "Lazy constraint for subtour [7, 315]\n",
      "Lazy constraint for subtour [8, 314]\n",
      "Lazy constraint for subtour [9, 313]\n",
      "Lazy constraint for subtour [10, 312]\n",
      "Lazy constraint for subtour [11, 311]\n",
      "Lazy constraint for subtour [12, 310]\n",
      "Lazy constraint for subtour [13, 309]\n",
      "Lazy constraint for subtour [14, 308]\n",
      "Lazy constraint for subtour [15, 307]\n",
      "Lazy constraint for subtour [16, 306]\n",
      "Lazy constraint for subtour [17, 305]\n",
      "Lazy constraint for subtour [18, 304]\n",
      "Lazy constraint for subtour [19, 303]\n",
      "Lazy constraint for subtour [20, 302]\n",
      "Lazy constraint for subtour [21, 301]\n",
      "Lazy constraint for subtour [22, 300]\n",
      "Lazy constraint for subtour [23, 299]\n",
      "Lazy constraint for subtour [24, 298]\n",
      "Lazy constraint for subtour [25, 297]\n",
      "Lazy constraint for subtour [26, 296]\n",
      "Lazy constraint for subtour [27, 295]\n",
      "Lazy constraint for subtour [28, 294]\n",
      "Lazy constraint for subtour [29, 293]\n",
      "Lazy constraint for subtour [30, 292]\n",
      "Lazy constraint for subtour [31, 291]\n",
      "Lazy constraint for subtour [32, 290]\n",
      "Lazy constraint for subtour [33, 289]\n",
      "Lazy constraint for subtour [34, 288]\n",
      "Lazy constraint for subtour [35, 287]\n",
      "Lazy constraint for subtour [36, 286]\n",
      "Lazy constraint for subtour [37, 285]\n",
      "Lazy constraint for subtour [38, 284]\n",
      "Lazy constraint for subtour [39, 283]\n",
      "Lazy constraint for subtour [40, 282]\n",
      "Lazy constraint for subtour [41, 281]\n",
      "Lazy constraint for subtour [42, 280]\n",
      "Lazy constraint for subtour [43, 279]\n",
      "Lazy constraint for subtour [44, 278]\n",
      "Lazy constraint for subtour [45, 277]\n",
      "Lazy constraint for subtour [46, 276]\n",
      "Lazy constraint for subtour [47, 275]\n",
      "Lazy constraint for subtour [48, 274]\n",
      "Lazy constraint for subtour [49, 273]\n",
      "Lazy constraint for subtour [50, 272]\n",
      "Lazy constraint for subtour [51, 271]\n",
      "Lazy constraint for subtour [52, 270]\n",
      "Lazy constraint for subtour [53, 269]\n",
      "Lazy constraint for subtour [54, 268]\n",
      "Lazy constraint for subtour [55, 267]\n",
      "Lazy constraint for subtour [56, 266]\n",
      "Lazy constraint for subtour [57, 265]\n",
      "Lazy constraint for subtour [58, 264]\n",
      "Lazy constraint for subtour [59, 263]\n",
      "Lazy constraint for subtour [60, 262]\n",
      "Lazy constraint for subtour [61, 261]\n",
      "Lazy constraint for subtour [62, 260]\n",
      "Lazy constraint for subtour [63, 259]\n",
      "Lazy constraint for subtour [64, 258]\n",
      "Lazy constraint for subtour [65, 257]\n",
      "Lazy constraint for subtour [66, 256]\n",
      "Lazy constraint for subtour [67, 255]\n",
      "Lazy constraint for subtour [68, 254]\n",
      "Lazy constraint for subtour [69, 253]\n",
      "Lazy constraint for subtour [70, 252]\n",
      "Lazy constraint for subtour [71, 251]\n",
      "Lazy constraint for subtour [72, 250]\n",
      "Lazy constraint for subtour [73, 249]\n",
      "Lazy constraint for subtour [74, 248]\n",
      "Lazy constraint for subtour [75, 247]\n",
      "Lazy constraint for subtour [76, 246]\n",
      "Lazy constraint for subtour [77, 245]\n",
      "Lazy constraint for subtour [78, 244]\n",
      "Lazy constraint for subtour [79, 243]\n",
      "Lazy constraint for subtour [80, 242]\n",
      "Lazy constraint for subtour [81, 241]\n",
      "Lazy constraint for subtour [82, 240]\n",
      "Lazy constraint for subtour [83, 239]\n",
      "Lazy constraint for subtour [84, 238]\n",
      "Lazy constraint for subtour [85, 237]\n",
      "Lazy constraint for subtour [86, 236]\n",
      "Lazy constraint for subtour [87, 235]\n",
      "Lazy constraint for subtour [88, 234]\n",
      "Lazy constraint for subtour [89, 233]\n",
      "Lazy constraint for subtour [90, 232]\n",
      "Lazy constraint for subtour [91, 231]\n",
      "Lazy constraint for subtour [92, 230]\n",
      "Lazy constraint for subtour [93, 229]\n",
      "Lazy constraint for subtour [94, 228]\n",
      "Lazy constraint for subtour [95, 227]\n",
      "Lazy constraint for subtour [96, 226]\n",
      "Lazy constraint for subtour [97, 225]\n",
      "Lazy constraint for subtour [98, 224]\n",
      "Lazy constraint for subtour [99, 223]\n",
      "Lazy constraint for subtour [100, 222]\n",
      "Lazy constraint for subtour [101, 221]\n",
      "Lazy constraint for subtour [102, 220]\n",
      "Lazy constraint for subtour [103, 219]\n",
      "Lazy constraint for subtour [104, 218]\n",
      "Lazy constraint for subtour [105, 217]\n",
      "Lazy constraint for subtour [106, 216]\n",
      "Lazy constraint for subtour [107, 215]\n",
      "Lazy constraint for subtour [108, 214]\n",
      "Lazy constraint for subtour [109, 213]\n",
      "Lazy constraint for subtour [110, 212]\n",
      "Lazy constraint for subtour [111, 211]\n",
      "Lazy constraint for subtour [112, 210]\n",
      "Lazy constraint for subtour [113, 209]\n",
      "Lazy constraint for subtour [114, 208]\n",
      "Lazy constraint for subtour [115, 207]\n",
      "Lazy constraint for subtour [116, 206]\n",
      "Lazy constraint for subtour [117, 205]\n",
      "Lazy constraint for subtour [118, 204]\n",
      "Lazy constraint for subtour [119, 203]\n",
      "Lazy constraint for subtour [120, 202]\n",
      "Lazy constraint for subtour [121, 201]\n",
      "Lazy constraint for subtour [122, 200]\n",
      "Lazy constraint for subtour [123, 199]\n",
      "Lazy constraint for subtour [124, 198]\n",
      "Lazy constraint for subtour [125, 197]\n",
      "Lazy constraint for subtour [126, 196]\n",
      "Lazy constraint for subtour [127, 195]\n",
      "Lazy constraint for subtour [128, 194]\n",
      "Lazy constraint for subtour [129, 193]\n",
      "Lazy constraint for subtour [130, 192]\n",
      "Lazy constraint for subtour [131, 191]\n",
      "Lazy constraint for subtour [132, 190]\n",
      "Lazy constraint for subtour [133, 189]\n",
      "Lazy constraint for subtour [134, 188]\n",
      "Lazy constraint for subtour [135, 187]\n",
      "Lazy constraint for subtour [136, 186]\n",
      "Lazy constraint for subtour [137, 185]\n",
      "Lazy constraint for subtour [138, 184]\n",
      "Lazy constraint for subtour [139, 183]\n",
      "Lazy constraint for subtour [140, 182]\n",
      "Lazy constraint for subtour [141, 181]\n",
      "Lazy constraint for subtour [142, 180]\n",
      "Lazy constraint for subtour [143, 179]\n",
      "Lazy constraint for subtour [144, 178]\n",
      "Lazy constraint for subtour [145, 177]\n",
      "Lazy constraint for subtour [146, 176]\n",
      "Lazy constraint for subtour [147, 175]\n",
      "Lazy constraint for subtour [148, 174]\n",
      "Lazy constraint for subtour [149, 173]\n",
      "Lazy constraint for subtour [150, 172]\n",
      "Lazy constraint for subtour [151, 171]\n",
      "Lazy constraint for subtour [152, 170]\n",
      "Lazy constraint for subtour [153, 169]\n",
      "Lazy constraint for subtour [154, 168]\n",
      "Lazy constraint for subtour [155, 167]\n",
      "Lazy constraint for subtour [156, 166]\n",
      "Lazy constraint for subtour [157, 165]\n",
      "Lazy constraint for subtour [158, 164]\n",
      "Lazy constraint for subtour [159, 163]\n",
      "Lazy constraint for subtour [14, 235]\n",
      "Lazy constraint for subtour [18, 211]\n",
      "Lazy constraint for subtour [25, 300]\n",
      "Lazy constraint for subtour [6, 98]\n"
     ]
    }
   ],
   "source": [
    "# Check how many times cardinality constraints where violated\n",
    "for entry in s.lazy_constraints_added:\n",
    "    subtour = entry['subtour']\n",
    "    constraint = entry['constraint']\n",
    "    \n",
    "    # Check if the subtour length is exactly 2\n",
    "    if len(subtour) == 2:\n",
    "        # The subtour contains exactly two vertices i and j\n",
    "        i, j = subtour\n",
    "        # The corresponding constraint is for i to j and j to i\n",
    "        print(f\"Lazy constraint for subtour {subtour}\")\n"
   ]
  },
  {
   "cell_type": "code",
   "execution_count": null,
   "metadata": {},
   "outputs": [
    {
     "ename": "AttributeError",
     "evalue": "'TspIntegerBCSolver' object has no attribute 'model'",
     "output_type": "error",
     "traceback": [
      "\u001b[0;31m---------------------------------------------------------------------------\u001b[0m",
      "\u001b[0;31mAttributeError\u001b[0m                            Traceback (most recent call last)",
      "\u001b[1;32m/Users/jonnycodd/Documents/MASTERS/Brush up material/Programming/tsp_project/11 Lab. TSP Integer BC test.ipynb Cell 15\u001b[0m line \u001b[0;36m2\n\u001b[1;32m      <a href='vscode-notebook-cell:/Users/jonnycodd/Documents/MASTERS/Brush%20up%20material/Programming/tsp_project/11%20Lab.%20TSP%20Integer%20BC%20test.ipynb#X32sZmlsZQ%3D%3D?line=0'>1</a>\u001b[0m \u001b[39m# Assuming 's' has a Gurobi model, you can access the runtime\u001b[39;00m\n\u001b[0;32m----> <a href='vscode-notebook-cell:/Users/jonnycodd/Documents/MASTERS/Brush%20up%20material/Programming/tsp_project/11%20Lab.%20TSP%20Integer%20BC%20test.ipynb#X32sZmlsZQ%3D%3D?line=1'>2</a>\u001b[0m model \u001b[39m=\u001b[39m s\u001b[39m.\u001b[39;49mmodel  \u001b[39m# Replace 's.model' with the appropriate attribute to access the Gurobi model\u001b[39;00m\n\u001b[1;32m      <a href='vscode-notebook-cell:/Users/jonnycodd/Documents/MASTERS/Brush%20up%20material/Programming/tsp_project/11%20Lab.%20TSP%20Integer%20BC%20test.ipynb#X32sZmlsZQ%3D%3D?line=2'>3</a>\u001b[0m solve_time \u001b[39m=\u001b[39m model\u001b[39m.\u001b[39mRuntime\n\u001b[1;32m      <a href='vscode-notebook-cell:/Users/jonnycodd/Documents/MASTERS/Brush%20up%20material/Programming/tsp_project/11%20Lab.%20TSP%20Integer%20BC%20test.ipynb#X32sZmlsZQ%3D%3D?line=3'>4</a>\u001b[0m solve_time\n",
      "\u001b[0;31mAttributeError\u001b[0m: 'TspIntegerBCSolver' object has no attribute 'model'"
     ]
    }
   ],
   "source": [
    "# Assuming 's' has a Gurobi model, you can access the runtime\n",
    "model = s.model  # Replace 's.model' with the appropriate attribute to access the Gurobi model\n",
    "solve_time = model.Runtime\n",
    "solve_time"
   ]
  },
  {
   "cell_type": "code",
   "execution_count": null,
   "metadata": {},
   "outputs": [
    {
     "name": "stdout",
     "output_type": "stream",
     "text": [
      "Lazy constraint for subtour [45, 88, 110]\n",
      "Lazy constraint for subtour [162, 195, 275]\n",
      "Lazy constraint for subtour [160, 161, 162]\n",
      "Lazy constraint for subtour [0, 317, 316]\n",
      "Lazy constraint for subtour [1, 308, 306]\n"
     ]
    }
   ],
   "source": [
    "# Check how many times cardinality constraints where violated\n",
    "for entry in s.lazy_constraints_added:\n",
    "    subtour = entry['subtour']\n",
    "    constraint = entry['constraint']\n",
    "    \n",
    "\n",
    "    # Check if the subtour length is exactly 2\n",
    "    if len(subtour) == 3:\n",
    "        # The subtour contains exactly two vertices i and j\n",
    "        i, j, k = subtour\n",
    "        # The corresponding constraint is for i to j and j to i\n",
    "        print(f\"Lazy constraint for subtour {subtour}\")"
   ]
  },
  {
   "cell_type": "markdown",
   "metadata": {},
   "source": [
    "## Cardinality 2"
   ]
  },
  {
   "cell_type": "code",
   "execution_count": null,
   "metadata": {},
   "outputs": [
    {
     "name": "stdout",
     "output_type": "stream",
     "text": [
      "Set parameter LazyConstraints to value 1\n",
      "Gurobi Optimizer version 10.0.3 build v10.0.3rc0 (mac64[rosetta2])\n",
      "\n",
      "CPU model: Apple M1\n",
      "Thread count: 8 physical cores, 8 logical processors, using up to 8 threads\n",
      "\n",
      "Optimize a model with 196692 rows, 195806 columns and 783224 nonzeros\n",
      "Model fingerprint: 0xa157d3c3\n",
      "Variable types: 0 continuous, 195806 integer (195806 binary)\n",
      "Coefficient statistics:\n",
      "  Matrix range     [1e+00, 1e+00]\n",
      "  Objective range  [1e+00, 3e+01]\n",
      "  Bounds range     [1e+00, 1e+00]\n",
      "  RHS range        [1e+00, 1e+00]\n",
      "Presolve removed 97903 rows and 0 columns\n",
      "Presolve time: 1.06s\n",
      "Presolved: 98789 rows, 195806 columns, 587418 nonzeros\n",
      "Variable types: 0 continuous, 195806 integer (195806 binary)\n",
      "Root relaxation presolved: 98900 rows, 195806 columns, 588744 nonzeros\n",
      "\n",
      "Deterministic concurrent LP optimizer: primal simplex, dual simplex, and barrier\n",
      "Showing barrier log only...\n",
      "\n",
      "Root barrier log...\n",
      "\n",
      "Ordering time: 0.00s\n",
      "\n",
      "Barrier statistics:\n",
      " AA' NZ     : 5.890e+05\n",
      " Factor NZ  : 8.884e+05 (roughly 130 MB of memory)\n",
      " Factor Ops : 2.348e+08 (less than 1 second per iteration)\n",
      " Threads    : 6\n",
      "\n",
      "                  Objective                Residual\n",
      "Iter       Primal          Dual         Primal    Dual     Compl     Time\n",
      "   0   3.73337820e+05  0.00000000e+00  4.42e+01 0.00e+00  9.83e-01     9s\n",
      "   1   2.66997011e+04 -2.96786575e+03  2.81e+00 4.95e-01  1.43e-01     9s\n",
      "   2   7.91795617e+03 -5.22017747e+02  5.56e-01 2.66e-01  6.13e-02    10s\n",
      "   3   3.68788116e+03  1.38510150e+03  4.02e-02 1.31e-01  2.68e-02    10s\n",
      "   4   3.17435347e+03  2.15280822e+03  9.30e-03 4.18e-02  9.38e-03    10s\n",
      "   5   2.96842578e+03  2.42182295e+03  4.02e-03 2.20e-02  4.99e-03    10s\n",
      "   6   2.84335843e+03  2.56246964e+03  1.71e-03 1.23e-02  2.73e-03    10s\n",
      "\n",
      "Barrier performed 6 iterations in 10.06 seconds (2.55 work units)\n",
      "Barrier solve interrupted - model solved by another algorithm\n",
      "\n",
      "Concurrent spin time: 0.82s (can be avoided by choosing Method=3)\n",
      "\n",
      "Solved with primal simplex\n",
      "\n",
      "Root relaxation: objective 2.720000e+03, 5284 iterations, 1.23 seconds (0.56 work units)\n",
      "\n",
      "    Nodes    |    Current Node    |     Objective Bounds      |     Work\n",
      " Expl Unexpl |  Obj  Depth IntInf | Incumbent    BestBd   Gap | It/Node Time\n",
      "\n",
      "     0     0 2720.00000    0    -          - 2720.00000      -     -   12s\n",
      "     0     0 2720.00000    0   18          - 2720.00000      -     -   12s\n",
      "     0     0 2720.00000    0   18          - 2720.00000      -     -   21s\n",
      "     0     0 2720.00000    0    -          - 2720.00000      -     -   28s\n",
      "     0     0 2720.00000    0   12          - 2720.00000      -     -   28s\n",
      "H    0     0                    2720.0000000 2720.00000  0.00%     -   29s\n",
      "     0     0 2720.00000    0   12 2720.00000 2720.00000  0.00%     -   29s\n",
      "\n",
      "Cutting planes:\n",
      "  Lazy constraints: 125\n",
      "\n",
      "Explored 1 nodes (11637 simplex iterations) in 29.48 seconds (6.15 work units)\n",
      "Thread count was 8 (of 8 available processors)\n",
      "\n",
      "Solution count 1: 2720 \n",
      "\n",
      "Optimal solution found (tolerance 1.00e-04)\n",
      "Best objective 2.720000000000e+03, best bound 2.720000000000e+03, gap 0.0000%\n",
      "\n",
      "User-callback calls 1017, time in user-callback 24.19 sec\n"
     ]
    }
   ],
   "source": [
    "i = TspInstance(n_vertices=n_vertices, cost=cost)\n",
    "s = TspIntegerBCSolver(instance=i, cardinality=2)\n",
    "solution = s.solve()"
   ]
  },
  {
   "cell_type": "code",
   "execution_count": null,
   "metadata": {},
   "outputs": [
    {
     "name": "stdout",
     "output_type": "stream",
     "text": [
      "29.49634289741516\n",
      "{'more than3': 134, 3: 1}\n",
      "2720.000000000001\n"
     ]
    }
   ],
   "source": [
    "solution_info = get_solution_info(solution)\n",
    "print(solution_info['exec_time'])\n",
    "print(solution_info['lazy_constraints_count'])\n",
    "print(solution_info['cost'])"
   ]
  },
  {
   "cell_type": "markdown",
   "metadata": {},
   "source": [
    "## Cardinality 3"
   ]
  },
  {
   "cell_type": "code",
   "execution_count": null,
   "metadata": {},
   "outputs": [
    {
     "ename": "KeyboardInterrupt",
     "evalue": "",
     "output_type": "error",
     "traceback": [
      "\u001b[0;31m---------------------------------------------------------------------------\u001b[0m",
      "\u001b[0;31mKeyboardInterrupt\u001b[0m                         Traceback (most recent call last)",
      "\u001b[0;32m<ipython-input-103-4509de5d2b45>\u001b[0m in \u001b[0;36m<module>\u001b[0;34m\u001b[0m\n\u001b[1;32m      1\u001b[0m \u001b[0mi\u001b[0m \u001b[0;34m=\u001b[0m \u001b[0mTspInstance\u001b[0m\u001b[0;34m(\u001b[0m\u001b[0mn_vertices\u001b[0m\u001b[0;34m=\u001b[0m\u001b[0mn_vertices\u001b[0m\u001b[0;34m,\u001b[0m \u001b[0mcost\u001b[0m\u001b[0;34m=\u001b[0m\u001b[0mcost\u001b[0m\u001b[0;34m)\u001b[0m\u001b[0;34m\u001b[0m\u001b[0;34m\u001b[0m\u001b[0m\n\u001b[0;32m----> 2\u001b[0;31m \u001b[0ms\u001b[0m \u001b[0;34m=\u001b[0m \u001b[0mTspIntegerBCSolver\u001b[0m\u001b[0;34m(\u001b[0m\u001b[0minstance\u001b[0m\u001b[0;34m=\u001b[0m\u001b[0mi\u001b[0m\u001b[0;34m,\u001b[0m \u001b[0mcardinality\u001b[0m\u001b[0;34m=\u001b[0m\u001b[0;36m3\u001b[0m\u001b[0;34m)\u001b[0m\u001b[0;34m\u001b[0m\u001b[0;34m\u001b[0m\u001b[0m\n\u001b[0m\u001b[1;32m      3\u001b[0m \u001b[0msolution\u001b[0m \u001b[0;34m=\u001b[0m \u001b[0ms\u001b[0m\u001b[0;34m.\u001b[0m\u001b[0msolve\u001b[0m\u001b[0;34m(\u001b[0m\u001b[0;34m)\u001b[0m\u001b[0;34m\u001b[0m\u001b[0;34m\u001b[0m\u001b[0m\n",
      "\u001b[0;32m<ipython-input-75-0770a5eebcd6>\u001b[0m in \u001b[0;36m__init__\u001b[0;34m(self, instance, cardinality, time_limit)\u001b[0m\n\u001b[1;32m     83\u001b[0m \u001b[0;34m\u001b[0m\u001b[0m\n\u001b[1;32m     84\u001b[0m         \u001b[0;31m# Build the optimization model\u001b[0m\u001b[0;34m\u001b[0m\u001b[0;34m\u001b[0m\u001b[0;34m\u001b[0m\u001b[0m\n\u001b[0;32m---> 85\u001b[0;31m         \u001b[0mself\u001b[0m\u001b[0;34m.\u001b[0m\u001b[0m__build_model\u001b[0m\u001b[0;34m(\u001b[0m\u001b[0;34m)\u001b[0m\u001b[0;34m\u001b[0m\u001b[0;34m\u001b[0m\u001b[0m\n\u001b[0m\u001b[1;32m     86\u001b[0m \u001b[0;34m\u001b[0m\u001b[0m\n\u001b[1;32m     87\u001b[0m     \u001b[0;32mdef\u001b[0m \u001b[0m__build_model\u001b[0m\u001b[0;34m(\u001b[0m\u001b[0mself\u001b[0m\u001b[0;34m)\u001b[0m\u001b[0;34m:\u001b[0m\u001b[0;34m\u001b[0m\u001b[0;34m\u001b[0m\u001b[0m\n",
      "\u001b[0;32m<ipython-input-75-0770a5eebcd6>\u001b[0m in \u001b[0;36m__build_model\u001b[0;34m(self)\u001b[0m\n\u001b[1;32m    105\u001b[0m         \u001b[0;31m# Add constraints to ensure x(i,j) + x(j,k) +x(k,i) <= 2\u001b[0m\u001b[0;34m\u001b[0m\u001b[0;34m\u001b[0m\u001b[0;34m\u001b[0m\u001b[0m\n\u001b[1;32m    106\u001b[0m         \u001b[0;32mif\u001b[0m \u001b[0mself\u001b[0m\u001b[0;34m.\u001b[0m\u001b[0mcardinality\u001b[0m \u001b[0;34m==\u001b[0m \u001b[0;36m3\u001b[0m\u001b[0;34m:\u001b[0m\u001b[0;34m\u001b[0m\u001b[0;34m\u001b[0m\u001b[0m\n\u001b[0;32m--> 107\u001b[0;31m             \u001b[0mself\u001b[0m\u001b[0;34m.\u001b[0m\u001b[0m_model\u001b[0m\u001b[0;34m.\u001b[0m\u001b[0maddConstrs\u001b[0m\u001b[0;34m(\u001b[0m\u001b[0;34m(\u001b[0m\u001b[0mself\u001b[0m\u001b[0;34m.\u001b[0m\u001b[0m_x\u001b[0m\u001b[0;34m[\u001b[0m\u001b[0mi\u001b[0m\u001b[0;34m,\u001b[0m \u001b[0mj\u001b[0m\u001b[0;34m]\u001b[0m \u001b[0;34m+\u001b[0m \u001b[0mself\u001b[0m\u001b[0;34m.\u001b[0m\u001b[0m_x\u001b[0m\u001b[0;34m[\u001b[0m\u001b[0mj\u001b[0m\u001b[0;34m,\u001b[0m \u001b[0mk\u001b[0m\u001b[0;34m]\u001b[0m \u001b[0;34m+\u001b[0m \u001b[0mself\u001b[0m\u001b[0;34m.\u001b[0m\u001b[0m_x\u001b[0m\u001b[0;34m[\u001b[0m\u001b[0mk\u001b[0m\u001b[0;34m,\u001b[0m \u001b[0mi\u001b[0m\u001b[0;34m]\u001b[0m\u001b[0;34m<=\u001b[0m \u001b[0;36m2\u001b[0m \u001b[0;32mfor\u001b[0m \u001b[0mi\u001b[0m \u001b[0;32min\u001b[0m \u001b[0mself\u001b[0m\u001b[0;34m.\u001b[0m\u001b[0m_V\u001b[0m \u001b[0;32mfor\u001b[0m \u001b[0mj\u001b[0m \u001b[0;32min\u001b[0m \u001b[0mself\u001b[0m\u001b[0;34m.\u001b[0m\u001b[0m_V\u001b[0m \u001b[0;32mfor\u001b[0m \u001b[0mk\u001b[0m \u001b[0;32min\u001b[0m \u001b[0mself\u001b[0m\u001b[0;34m.\u001b[0m\u001b[0m_V\u001b[0m \u001b[0;32mif\u001b[0m \u001b[0mi\u001b[0m \u001b[0;34m!=\u001b[0m \u001b[0mj\u001b[0m \u001b[0;32mand\u001b[0m \u001b[0mj\u001b[0m \u001b[0;34m!=\u001b[0m \u001b[0mk\u001b[0m \u001b[0;32mand\u001b[0m \u001b[0mk\u001b[0m \u001b[0;34m!=\u001b[0m \u001b[0mi\u001b[0m\u001b[0;34m)\u001b[0m\u001b[0;34m,\u001b[0m \u001b[0mname\u001b[0m\u001b[0;34m=\u001b[0m\u001b[0;34m'cardinality three'\u001b[0m\u001b[0;34m)\u001b[0m\u001b[0;34m\u001b[0m\u001b[0;34m\u001b[0m\u001b[0m\n\u001b[0m\u001b[1;32m    108\u001b[0m \u001b[0;34m\u001b[0m\u001b[0m\n\u001b[1;32m    109\u001b[0m \u001b[0;34m\u001b[0m\u001b[0m\n",
      "\u001b[0;32msrc/gurobipy/model.pxi\u001b[0m in \u001b[0;36mgurobipy.Model.addConstrs\u001b[0;34m()\u001b[0m\n",
      "\u001b[0;32m<ipython-input-75-0770a5eebcd6>\u001b[0m in \u001b[0;36m<genexpr>\u001b[0;34m(.0)\u001b[0m\n\u001b[1;32m    105\u001b[0m         \u001b[0;31m# Add constraints to ensure x(i,j) + x(j,k) +x(k,i) <= 2\u001b[0m\u001b[0;34m\u001b[0m\u001b[0;34m\u001b[0m\u001b[0;34m\u001b[0m\u001b[0m\n\u001b[1;32m    106\u001b[0m         \u001b[0;32mif\u001b[0m \u001b[0mself\u001b[0m\u001b[0;34m.\u001b[0m\u001b[0mcardinality\u001b[0m \u001b[0;34m==\u001b[0m \u001b[0;36m3\u001b[0m\u001b[0;34m:\u001b[0m\u001b[0;34m\u001b[0m\u001b[0;34m\u001b[0m\u001b[0m\n\u001b[0;32m--> 107\u001b[0;31m             \u001b[0mself\u001b[0m\u001b[0;34m.\u001b[0m\u001b[0m_model\u001b[0m\u001b[0;34m.\u001b[0m\u001b[0maddConstrs\u001b[0m\u001b[0;34m(\u001b[0m\u001b[0;34m(\u001b[0m\u001b[0mself\u001b[0m\u001b[0;34m.\u001b[0m\u001b[0m_x\u001b[0m\u001b[0;34m[\u001b[0m\u001b[0mi\u001b[0m\u001b[0;34m,\u001b[0m \u001b[0mj\u001b[0m\u001b[0;34m]\u001b[0m \u001b[0;34m+\u001b[0m \u001b[0mself\u001b[0m\u001b[0;34m.\u001b[0m\u001b[0m_x\u001b[0m\u001b[0;34m[\u001b[0m\u001b[0mj\u001b[0m\u001b[0;34m,\u001b[0m \u001b[0mk\u001b[0m\u001b[0;34m]\u001b[0m \u001b[0;34m+\u001b[0m \u001b[0mself\u001b[0m\u001b[0;34m.\u001b[0m\u001b[0m_x\u001b[0m\u001b[0;34m[\u001b[0m\u001b[0mk\u001b[0m\u001b[0;34m,\u001b[0m \u001b[0mi\u001b[0m\u001b[0;34m]\u001b[0m\u001b[0;34m<=\u001b[0m \u001b[0;36m2\u001b[0m \u001b[0;32mfor\u001b[0m \u001b[0mi\u001b[0m \u001b[0;32min\u001b[0m \u001b[0mself\u001b[0m\u001b[0;34m.\u001b[0m\u001b[0m_V\u001b[0m \u001b[0;32mfor\u001b[0m \u001b[0mj\u001b[0m \u001b[0;32min\u001b[0m \u001b[0mself\u001b[0m\u001b[0;34m.\u001b[0m\u001b[0m_V\u001b[0m \u001b[0;32mfor\u001b[0m \u001b[0mk\u001b[0m \u001b[0;32min\u001b[0m \u001b[0mself\u001b[0m\u001b[0;34m.\u001b[0m\u001b[0m_V\u001b[0m \u001b[0;32mif\u001b[0m \u001b[0mi\u001b[0m \u001b[0;34m!=\u001b[0m \u001b[0mj\u001b[0m \u001b[0;32mand\u001b[0m \u001b[0mj\u001b[0m \u001b[0;34m!=\u001b[0m \u001b[0mk\u001b[0m \u001b[0;32mand\u001b[0m \u001b[0mk\u001b[0m \u001b[0;34m!=\u001b[0m \u001b[0mi\u001b[0m\u001b[0;34m)\u001b[0m\u001b[0;34m,\u001b[0m \u001b[0mname\u001b[0m\u001b[0;34m=\u001b[0m\u001b[0;34m'cardinality three'\u001b[0m\u001b[0;34m)\u001b[0m\u001b[0;34m\u001b[0m\u001b[0;34m\u001b[0m\u001b[0m\n\u001b[0m\u001b[1;32m    108\u001b[0m \u001b[0;34m\u001b[0m\u001b[0m\n\u001b[1;32m    109\u001b[0m \u001b[0;34m\u001b[0m\u001b[0m\n",
      "\u001b[0;31mKeyboardInterrupt\u001b[0m: "
     ]
    }
   ],
   "source": [
    "i = TspInstance(n_vertices=n_vertices, cost=cost)\n",
    "s = TspIntegerBCSolver(instance=i, cardinality=3)\n",
    "solution = s.solve()"
   ]
  },
  {
   "cell_type": "code",
   "execution_count": null,
   "metadata": {},
   "outputs": [],
   "source": [
    "solution_info = get_solution_info(solution)\n",
    "print(solution_info['exec_time'])\n",
    "print(solution_info['lazy_constraints_count'])\n",
    "print(solution_info['cost'])"
   ]
  }
 ],
 "metadata": {
  "kernelspec": {
   "display_name": "Python 3 (ipykernel)",
   "language": "python",
   "name": "python3"
  },
  "language_info": {
   "codemirror_mode": {
    "name": "ipython",
    "version": 3
   },
   "file_extension": ".py",
   "mimetype": "text/x-python",
   "name": "python",
   "nbconvert_exporter": "python",
   "pygments_lexer": "ipython3",
   "version": "3.8.5"
  },
  "vscode": {
   "interpreter": {
    "hash": "379ae615daf9b911d111f4f76cbea86f2607115ba7a4f689c7428a4010effa69"
   }
  }
 },
 "nbformat": 4,
 "nbformat_minor": 2
}
